{
 "cells": [
  {
   "cell_type": "markdown",
   "metadata": {},
   "source": [
    "# Feature Selection"
   ]
  },
  {
   "cell_type": "code",
   "execution_count": 80,
   "metadata": {},
   "outputs": [],
   "source": [
    "import numpy as np # linear algebra\n",
    "import pandas as pd # data processing, CSV file I/O (e.g. pd.read_csv)\n",
    "import seaborn as sns # data visualization library  \n",
    "import matplotlib.pyplot as plt\n",
    "import time\n",
    "from utils import *\n",
    "import xgboost as xgb"
   ]
  },
  {
   "cell_type": "code",
   "execution_count": 23,
   "metadata": {},
   "outputs": [],
   "source": [
    "def load_data(path):\n",
    "    df = pd.read_csv(path, index_col='id')\n",
    "    df.poor.fillna(False, inplace=True)\n",
    "    return df"
   ]
  },
  {
   "cell_type": "code",
   "execution_count": 24,
   "metadata": {},
   "outputs": [],
   "source": [
    "# load training data\n",
    "a_train = load_data(DATA_PATHS['A']['train'])\n",
    "b_train = load_data(DATA_PATHS['B']['train'])\n",
    "c_train = load_data(DATA_PATHS['C']['train'])"
   ]
  },
  {
   "cell_type": "code",
   "execution_count": 31,
   "metadata": {},
   "outputs": [],
   "source": [
    "def get_object_columns(df):\n",
    "    obj = df.select_dtypes(include=['O'])\n",
    "    del obj['country']\n",
    "    return obj\n",
    "\n",
    "\n",
    "def get_numeric_columns(df):\n",
    "    obj = df.select_dtypes(include=['int64', 'float64'])\n",
    "    return obj\n",
    "\n",
    "\n",
    "def convert_objs_to_cat(df):\n",
    "    \"\"\"\n",
    "    df must contain only Object columns\n",
    "    \"\"\"\n",
    "    tmp = df.copy()\n",
    "    for col in tmp.columns.tolist():\n",
    "        tmp[col] = tmp[col].astype('category')\n",
    "    tmp[tmp.columns.tolist()] = tmp[tmp.columns.tolist()].apply(lambda x: x.cat.codes)\n",
    "    return tmp"
   ]
  },
  {
   "cell_type": "code",
   "execution_count": 32,
   "metadata": {},
   "outputs": [],
   "source": [
    "ay_train = a_train.poor\n",
    "a_train_objs = get_object_columns(a_train)\n",
    "a_train_nums = get_numeric_columns(a_train)\n",
    "a_train_cats = convert_objs_to_cat(a_train_objs)"
   ]
  },
  {
   "cell_type": "code",
   "execution_count": 6,
   "metadata": {},
   "outputs": [
    {
     "data": {
      "text/html": [
       "<div>\n",
       "<style>\n",
       "    .dataframe thead tr:only-child th {\n",
       "        text-align: right;\n",
       "    }\n",
       "\n",
       "    .dataframe thead th {\n",
       "        text-align: left;\n",
       "    }\n",
       "\n",
       "    .dataframe tbody tr th {\n",
       "        vertical-align: top;\n",
       "    }\n",
       "</style>\n",
       "<table border=\"1\" class=\"dataframe\">\n",
       "  <thead>\n",
       "    <tr style=\"text-align: right;\">\n",
       "      <th></th>\n",
       "      <th>wBXbHZmp</th>\n",
       "      <th>SlDKnCuu</th>\n",
       "      <th>KAJOWiiw</th>\n",
       "      <th>DsKacCdL</th>\n",
       "      <th>rtPrBBPl</th>\n",
       "      <th>tMJrvvut</th>\n",
       "      <th>jdetlNNF</th>\n",
       "      <th>maLAYXwi</th>\n",
       "      <th>vwpsXRGk</th>\n",
       "      <th>sArDRIyX</th>\n",
       "      <th>...</th>\n",
       "      <th>QZiSWCCB</th>\n",
       "      <th>sDGibZrP</th>\n",
       "      <th>CsGvKKBJ</th>\n",
       "      <th>OLpGAaEu</th>\n",
       "      <th>LrDrWRjC</th>\n",
       "      <th>JCDeZBXq</th>\n",
       "      <th>HGPWuGlV</th>\n",
       "      <th>GDUPaBQs</th>\n",
       "      <th>WuwrCsIY</th>\n",
       "      <th>AlDbXTlZ</th>\n",
       "    </tr>\n",
       "  </thead>\n",
       "  <tbody>\n",
       "    <tr>\n",
       "      <th>count</th>\n",
       "      <td>8203</td>\n",
       "      <td>8203</td>\n",
       "      <td>8203</td>\n",
       "      <td>8203</td>\n",
       "      <td>8203</td>\n",
       "      <td>8203</td>\n",
       "      <td>8203</td>\n",
       "      <td>8203</td>\n",
       "      <td>8203</td>\n",
       "      <td>8203</td>\n",
       "      <td>...</td>\n",
       "      <td>8203</td>\n",
       "      <td>8203</td>\n",
       "      <td>8203</td>\n",
       "      <td>8203</td>\n",
       "      <td>8203</td>\n",
       "      <td>8203</td>\n",
       "      <td>8203</td>\n",
       "      <td>8203</td>\n",
       "      <td>8203</td>\n",
       "      <td>8203</td>\n",
       "    </tr>\n",
       "    <tr>\n",
       "      <th>unique</th>\n",
       "      <td>2</td>\n",
       "      <td>2</td>\n",
       "      <td>3</td>\n",
       "      <td>2</td>\n",
       "      <td>2</td>\n",
       "      <td>2</td>\n",
       "      <td>2</td>\n",
       "      <td>3</td>\n",
       "      <td>31</td>\n",
       "      <td>2</td>\n",
       "      <td>...</td>\n",
       "      <td>2</td>\n",
       "      <td>2</td>\n",
       "      <td>2</td>\n",
       "      <td>3</td>\n",
       "      <td>2</td>\n",
       "      <td>2</td>\n",
       "      <td>2</td>\n",
       "      <td>2</td>\n",
       "      <td>2</td>\n",
       "      <td>2</td>\n",
       "    </tr>\n",
       "    <tr>\n",
       "      <th>top</th>\n",
       "      <td>JhtDR</td>\n",
       "      <td>GUusz</td>\n",
       "      <td>TuovO</td>\n",
       "      <td>ZYabk</td>\n",
       "      <td>feupP</td>\n",
       "      <td>PHMVg</td>\n",
       "      <td>NDTCU</td>\n",
       "      <td>sehIp</td>\n",
       "      <td>sPNOc</td>\n",
       "      <td>MwLvg</td>\n",
       "      <td>...</td>\n",
       "      <td>wxJis</td>\n",
       "      <td>JqHnW</td>\n",
       "      <td>MaXfS</td>\n",
       "      <td>HxnJy</td>\n",
       "      <td>idRwx</td>\n",
       "      <td>UyAms</td>\n",
       "      <td>vkbkA</td>\n",
       "      <td>qQxrL</td>\n",
       "      <td>AITFl</td>\n",
       "      <td>cecIq</td>\n",
       "    </tr>\n",
       "    <tr>\n",
       "      <th>freq</th>\n",
       "      <td>8095</td>\n",
       "      <td>6015</td>\n",
       "      <td>5252</td>\n",
       "      <td>7728</td>\n",
       "      <td>7560</td>\n",
       "      <td>7797</td>\n",
       "      <td>6928</td>\n",
       "      <td>6860</td>\n",
       "      <td>398</td>\n",
       "      <td>8139</td>\n",
       "      <td>...</td>\n",
       "      <td>5776</td>\n",
       "      <td>8196</td>\n",
       "      <td>7173</td>\n",
       "      <td>3640</td>\n",
       "      <td>7943</td>\n",
       "      <td>6199</td>\n",
       "      <td>8097</td>\n",
       "      <td>8141</td>\n",
       "      <td>7383</td>\n",
       "      <td>5433</td>\n",
       "    </tr>\n",
       "  </tbody>\n",
       "</table>\n",
       "<p>4 rows × 339 columns</p>\n",
       "</div>"
      ],
      "text/plain": [
       "       wBXbHZmp SlDKnCuu KAJOWiiw DsKacCdL rtPrBBPl tMJrvvut jdetlNNF  \\\n",
       "count      8203     8203     8203     8203     8203     8203     8203   \n",
       "unique        2        2        3        2        2        2        2   \n",
       "top       JhtDR    GUusz    TuovO    ZYabk    feupP    PHMVg    NDTCU   \n",
       "freq       8095     6015     5252     7728     7560     7797     6928   \n",
       "\n",
       "       maLAYXwi vwpsXRGk sArDRIyX   ...    QZiSWCCB sDGibZrP CsGvKKBJ  \\\n",
       "count      8203     8203     8203   ...        8203     8203     8203   \n",
       "unique        3       31        2   ...           2        2        2   \n",
       "top       sehIp    sPNOc    MwLvg   ...       wxJis    JqHnW    MaXfS   \n",
       "freq       6860      398     8139   ...        5776     8196     7173   \n",
       "\n",
       "       OLpGAaEu LrDrWRjC JCDeZBXq HGPWuGlV GDUPaBQs WuwrCsIY AlDbXTlZ  \n",
       "count      8203     8203     8203     8203     8203     8203     8203  \n",
       "unique        3        2        2        2        2        2        2  \n",
       "top       HxnJy    idRwx    UyAms    vkbkA    qQxrL    AITFl    cecIq  \n",
       "freq       3640     7943     6199     8097     8141     7383     5433  \n",
       "\n",
       "[4 rows x 339 columns]"
      ]
     },
     "execution_count": 6,
     "metadata": {},
     "output_type": "execute_result"
    }
   ],
   "source": [
    "a_train_objs.describe()"
   ]
  },
  {
   "cell_type": "code",
   "execution_count": 7,
   "metadata": {},
   "outputs": [
    {
     "data": {
      "text/html": [
       "<div>\n",
       "<style>\n",
       "    .dataframe thead tr:only-child th {\n",
       "        text-align: right;\n",
       "    }\n",
       "\n",
       "    .dataframe thead th {\n",
       "        text-align: left;\n",
       "    }\n",
       "\n",
       "    .dataframe tbody tr th {\n",
       "        vertical-align: top;\n",
       "    }\n",
       "</style>\n",
       "<table border=\"1\" class=\"dataframe\">\n",
       "  <thead>\n",
       "    <tr style=\"text-align: right;\">\n",
       "      <th></th>\n",
       "      <th>nEsgxvAq</th>\n",
       "      <th>OMtioXZZ</th>\n",
       "      <th>YFMZwKrU</th>\n",
       "      <th>TiwRslOh</th>\n",
       "    </tr>\n",
       "  </thead>\n",
       "  <tbody>\n",
       "    <tr>\n",
       "      <th>count</th>\n",
       "      <td>8203.000000</td>\n",
       "      <td>8203.000000</td>\n",
       "      <td>8203.000000</td>\n",
       "      <td>8203.000000</td>\n",
       "    </tr>\n",
       "    <tr>\n",
       "      <th>mean</th>\n",
       "      <td>-7.590638</td>\n",
       "      <td>17.464464</td>\n",
       "      <td>-2.985615</td>\n",
       "      <td>-4.191028</td>\n",
       "    </tr>\n",
       "    <tr>\n",
       "      <th>std</th>\n",
       "      <td>5.810942</td>\n",
       "      <td>10.853654</td>\n",
       "      <td>0.896245</td>\n",
       "      <td>4.472567</td>\n",
       "    </tr>\n",
       "    <tr>\n",
       "      <th>min</th>\n",
       "      <td>-70.000000</td>\n",
       "      <td>-127.000000</td>\n",
       "      <td>-4.000000</td>\n",
       "      <td>-31.000000</td>\n",
       "    </tr>\n",
       "    <tr>\n",
       "      <th>25%</th>\n",
       "      <td>-10.000000</td>\n",
       "      <td>12.000000</td>\n",
       "      <td>-4.000000</td>\n",
       "      <td>-7.000000</td>\n",
       "    </tr>\n",
       "    <tr>\n",
       "      <th>50%</th>\n",
       "      <td>-4.000000</td>\n",
       "      <td>12.000000</td>\n",
       "      <td>-3.000000</td>\n",
       "      <td>-3.000000</td>\n",
       "    </tr>\n",
       "    <tr>\n",
       "      <th>75%</th>\n",
       "      <td>-4.000000</td>\n",
       "      <td>21.000000</td>\n",
       "      <td>-2.000000</td>\n",
       "      <td>-1.000000</td>\n",
       "    </tr>\n",
       "    <tr>\n",
       "      <th>max</th>\n",
       "      <td>-4.000000</td>\n",
       "      <td>111.000000</td>\n",
       "      <td>1.000000</td>\n",
       "      <td>3.000000</td>\n",
       "    </tr>\n",
       "  </tbody>\n",
       "</table>\n",
       "</div>"
      ],
      "text/plain": [
       "          nEsgxvAq     OMtioXZZ     YFMZwKrU     TiwRslOh\n",
       "count  8203.000000  8203.000000  8203.000000  8203.000000\n",
       "mean     -7.590638    17.464464    -2.985615    -4.191028\n",
       "std       5.810942    10.853654     0.896245     4.472567\n",
       "min     -70.000000  -127.000000    -4.000000   -31.000000\n",
       "25%     -10.000000    12.000000    -4.000000    -7.000000\n",
       "50%      -4.000000    12.000000    -3.000000    -3.000000\n",
       "75%      -4.000000    21.000000    -2.000000    -1.000000\n",
       "max      -4.000000   111.000000     1.000000     3.000000"
      ]
     },
     "execution_count": 7,
     "metadata": {},
     "output_type": "execute_result"
    }
   ],
   "source": [
    "a_train_nums.describe()"
   ]
  },
  {
   "cell_type": "code",
   "execution_count": 1,
   "metadata": {},
   "outputs": [],
   "source": [
    "def visualize_grassi(x, y):\n",
    "    # Violin visualization\n",
    "    data_n_2 = (x - x.mean()) / (x.std())\n",
    "    data = pd.concat([y, data_n_2],axis=1)\n",
    "    data = pd.melt(data,id_vars=\"poor\",\n",
    "                   var_name=\"features\",\n",
    "                   value_name='value')\n",
    "    plt.figure(figsize=(10,10))\n",
    "    sns.violinplot(x=\"features\", y=\"value\", hue=\"poor\", data=data, split=True, inner=\"quart\")\n",
    "    plt.xticks(rotation=90)"
   ]
  },
  {
   "cell_type": "code",
   "execution_count": 9,
   "metadata": {},
   "outputs": [
    {
     "data": {
      "image/png": "[encoded data removed]",
      "text/plain": [
       "<matplotlib.figure.Figure at 0x7f9fe1780be0>"
      ]
     },
     "metadata": {},
     "output_type": "display_data"
    }
   ],
   "source": [
    "visualize_grassi(a_train_nums, ay_train)"
   ]
  },
  {
   "cell_type": "markdown",
   "metadata": {},
   "source": [
    "Some of the numeric features seem to be correlated, like OMtioXZZ and YFMZwKrU. Lets see:"
   ]
  },
  {
   "cell_type": "code",
   "execution_count": 10,
   "metadata": {},
   "outputs": [
    {
     "data": {
      "text/plain": [
       "<seaborn.axisgrid.JointGrid at 0x7f9fe1780438>"
      ]
     },
     "execution_count": 10,
     "metadata": {},
     "output_type": "execute_result"
    },
    {
     "data": {
      "image/png": "[encoded data removed]",
      "text/plain": [
       "<matplotlib.figure.Figure at 0x7f9fe1780b00>"
      ]
     },
     "metadata": {},
     "output_type": "display_data"
    }
   ],
   "source": [
    "x = (a_train_nums - a_train_nums.mean()) / (a_train_nums.std())\n",
    "\n",
    "sns.jointplot(x.loc[:,'OMtioXZZ'], x.loc[:,'YFMZwKrU'], kind=\"regg\", color=\"#ce1414\")"
   ]
  },
  {
   "cell_type": "markdown",
   "metadata": {},
   "source": [
    "Nope. They dont seem highly correlated as the pearsonr score is 0.24"
   ]
  },
  {
   "cell_type": "markdown",
   "metadata": {},
   "source": [
    "Lets check the categorical variables now. For that we can use a swarmplot:"
   ]
  },
  {
   "cell_type": "code",
   "execution_count": 62,
   "metadata": {},
   "outputs": [],
   "source": [
    "def visualize_grassi_cate(x, y):\n",
    "    data = pd.concat([y, x],axis=1)\n",
    "    data = pd.melt(data, id_vars=\"poor\",\n",
    "                   var_name=\"features\",\n",
    "                   value_name='value')\n",
    "    plt.figure(figsize=(10,10))\n",
    "    sns.violinplot(x=\"features\", y=\"value\", hue=\"poor\", data=data, split=True)\n",
    "    plt.xticks(rotation=90)\n",
    "#sns.swarmplot(x=\"day\", y=\"total_bill\", hue=\"sex\", data=tips);"
   ]
  },
  {
   "cell_type": "code",
   "execution_count": 66,
   "metadata": {},
   "outputs": [
    {
     "data": {
      "image/png": "[encoded data removed]",
      "text/plain": [
       "<matplotlib.figure.Figure at 0x7f9fde82c780>"
      ]
     },
     "metadata": {},
     "output_type": "display_data"
    }
   ],
   "source": [
    "a_sub = a_train_cats[a_train_cats.columns[a_train_cats.max() == 1]]\n",
    "a_big = a_train_cats.drop(a_sub.columns.tolist(), axis=1)\n",
    "visualize_grassi_cate(a_sub.iloc[:, 0:10], ay_train)"
   ]
  },
  {
   "cell_type": "markdown",
   "metadata": {},
   "source": [
    "Lets use a swarmplot instead:\n"
   ]
  },
  {
   "cell_type": "code",
   "execution_count": 69,
   "metadata": {},
   "outputs": [],
   "source": [
    "def visualize_swarm(x, y):\n",
    "    data = pd.concat([y, x],axis=1)\n",
    "    data = pd.melt(data, id_vars=\"poor\",\n",
    "                   var_name=\"features\",\n",
    "                   value_name='value')\n",
    "    plt.figure(figsize=(10,10))\n",
    "    sns.swarmplot(x=\"features\", y=\"value\", hue=\"poor\", data=data)\n",
    "    plt.xticks(rotation=90)"
   ]
  },
  {
   "cell_type": "code",
   "execution_count": 71,
   "metadata": {},
   "outputs": [],
   "source": [
    "visualize_swarm(a_sub.iloc[:, 0:10], ay_train)"
   ]
  },
  {
   "cell_type": "markdown",
   "metadata": {},
   "source": [
    "Whatever, lets use a tool that comes with scikit learn:"
   ]
  },
  {
   "cell_type": "code",
   "execution_count": 76,
   "metadata": {},
   "outputs": [
    {
     "name": "stdout",
     "output_type": "stream",
     "text": [
      "Score list: [  1.09040648e+00   7.28718956e+01   1.97521564e+01   1.32519387e+02\n",
      "   7.57615521e+01   3.17138998e+02   3.92192218e-02   4.08305909e-02\n",
      "   2.01788481e+00   1.02020332e+01   1.05920650e-02   2.79782222e+01\n",
      "   2.52273957e+00   3.92915104e+00   5.99673100e+01   3.89841609e+01\n",
      "   2.19908873e+02   3.88625075e-01   8.41637143e+01   4.39366272e+00\n",
      "   2.44477889e+01   2.93394257e-04   4.84241558e-04   9.66978918e+00\n",
      "   3.92192218e-02   1.40420472e+02   8.83200283e+02   3.47693302e-04\n",
      "   3.85268960e+02   4.40359263e+00   2.22180000e+01   5.81676733e-01\n",
      "   1.13006635e-03   1.68274471e-01   2.05014476e-01   2.22724737e+01\n",
      "   2.51002118e+01   9.25124173e+01   8.14377766e+01   3.80134856e+01\n",
      "   4.76263753e+02   1.33679826e+00   6.41341622e-01   1.38271803e+01\n",
      "   4.24108468e-03   5.06062652e-01   6.05978359e+02   1.15204444e+01\n",
      "   4.23161344e-02   4.93550776e-02   1.42063589e+02   5.43106667e+01\n",
      "   3.02490550e+01   1.00278488e+01   6.19077117e+01   1.56437070e+01\n",
      "   1.03151105e+01   5.78144630e+01   1.88689175e+02   1.49658148e+02\n",
      "   2.59011499e+02   1.22460002e+00   6.49894129e+01   2.69509283e+00\n",
      "   6.08012537e+01   2.05882937e+01   4.15326597e+01   5.82061614e+00\n",
      "   1.78304818e+01   4.42276218e+01   4.01922906e-04   1.65234758e+01\n",
      "   5.72406220e+01   9.95116834e+01   2.80278034e+02   7.40600000e+01\n",
      "   5.03379276e+01   5.62570823e+00   2.44719572e+02   1.18487707e+02\n",
      "   6.18852496e-02   4.74776397e+00   7.07573863e+00   1.17202947e+00\n",
      "   3.57934280e+01   5.25569269e+01   6.26764409e+01   1.57965549e+01\n",
      "   5.92994416e+01   1.45017972e+01   4.94056445e+01   4.39256040e-01\n",
      "   5.13388346e+01   1.43114451e+00   7.73797600e+01   8.87829619e+01\n",
      "   3.09387692e+02   5.13941174e+01   1.58621369e+02   2.83273743e-02\n",
      "   6.65292788e+01   2.07373510e+01   3.70115118e+01   1.81667560e+02\n",
      "   8.01763101e+01   5.86374763e+01   4.62290942e-03   9.34645126e-03\n",
      "   3.28660014e+02   4.61700987e+02   5.96934044e+01   9.25221719e+00\n",
      "   5.84020164e+00   2.08112424e+01   2.61679188e+01   7.93446751e+02\n",
      "   2.19675600e-01   4.60446731e+01   5.94000399e+01   1.91392853e-01\n",
      "   1.05347752e+02   9.03378883e+00   1.27929771e+01   6.02892263e+00\n",
      "   1.89914162e+00   5.92874680e-01   9.95346952e+00   2.51107586e+02\n",
      "   9.31496211e-01   9.75262411e+01   1.78472488e+02   2.61277532e+02\n",
      "   1.76285099e+02   1.21560308e-01   1.63949440e+02   3.59295830e+02\n",
      "   4.38809214e+00   1.18454150e+02   4.56257158e+01   1.79535685e+01\n",
      "   1.01975273e+02   1.08850334e+02   1.92331343e+00   1.06489964e+02\n",
      "   1.26316211e+02   5.73621942e+01   2.18519971e+01   6.25029854e-04\n",
      "   3.04087004e+00   4.26345846e+01   6.39103219e+01   1.48741985e+01\n",
      "   1.22720865e+02   4.60817778e+01   3.66670092e+02   8.98817590e+00\n",
      "   8.42035032e+01   3.13996290e+02   5.12271825e-03   3.93341662e-01\n",
      "   1.07404557e+02   8.06431111e+01   7.67601228e+01   1.49300766e+02\n",
      "   1.72071894e+01   1.15577203e+02   4.42778718e+01   1.81035556e+01\n",
      "   1.11235152e+02   1.36878816e+02   3.81197828e-02   1.42250950e+02\n",
      "   8.07395610e+00   1.29608075e+01   6.35926953e+01   1.95841805e-01\n",
      "   7.00805897e+01   2.18508848e+00   1.06797250e+01   8.24948265e+01\n",
      "   3.37231309e+00   2.12571292e+02   1.44058861e+02   4.99593451e+01\n",
      "   5.32899438e+01   7.83079720e-02   6.15000825e+01   1.17664598e+00\n",
      "   1.87032817e+02   1.73059994e+01   1.95393297e+01   2.80839881e+01\n",
      "   5.83447195e+01   6.10908938e+01   1.27848447e+02   2.42305154e-01\n",
      "   1.06975556e+01   3.64569268e+00   1.59813320e-01   6.45017760e-01\n",
      "   2.76122968e-02   3.70101435e-01   7.11665326e-01   6.54266595e-04\n",
      "   1.46751967e+01   4.65520786e+02   8.13125638e+01   9.87381041e+01\n",
      "   1.36006525e-01   4.15906461e+01   4.77955680e+01   1.23969375e+02\n",
      "   6.29359006e+01   8.27325169e+01   1.15205189e+01   2.05986137e+01\n",
      "   3.58146669e-02   1.42488798e+00   2.09954958e+02   9.63824974e+01\n",
      "   3.52339120e+00   2.50941964e-03   1.35812862e+02   1.98838826e-03\n",
      "   1.34028990e+02   4.67205927e+02   2.06859313e+01   2.56489119e+01\n",
      "   3.01099109e+02   1.06342783e+02   4.71841923e-02   4.51590941e+02\n",
      "   3.01279550e+02   6.56539887e+00   2.86947371e+01   1.12625609e+01\n",
      "   1.22282248e+01   1.53014036e+00   5.99574438e-01   5.35232958e+01\n",
      "   3.99414296e+02   1.09326483e-01   1.12273016e-02   1.55847164e-01\n",
      "   5.00909847e+02   3.61522055e+01   2.70855986e+02   3.92915104e+01\n",
      "   2.12169335e+01   9.74940105e-01   4.51197637e+01   7.70128977e+01\n",
      "   2.75603718e+01   5.49299820e+01   1.92004724e+01   4.92334463e+01\n",
      "   1.07994484e+01   1.12082162e+02   2.96240000e+01   3.48960567e+00\n",
      "   8.70600874e+00   6.86688505e-01   3.78233236e+01   4.07099186e-01\n",
      "   1.13798745e+00   1.96110503e+02   6.32675429e+01   2.16815225e-01\n",
      "   3.35003184e-01   8.75509328e+00   9.98001030e+01]\n",
      "Feature list: Index(['wBXbHZmp', 'SlDKnCuu', 'DsKacCdL', 'rtPrBBPl', 'tMJrvvut', 'jdetlNNF',\n",
      "       'sArDRIyX', 'goxNwvnG', 'TYhoEiNm', 'bgfNZfcj',\n",
      "       ...\n",
      "       'BIofZdtd', 'QZiSWCCB', 'sDGibZrP', 'CsGvKKBJ', 'LrDrWRjC', 'JCDeZBXq',\n",
      "       'HGPWuGlV', 'GDUPaBQs', 'WuwrCsIY', 'AlDbXTlZ'],\n",
      "      dtype='object', length=271)\n"
     ]
    }
   ],
   "source": [
    "from sklearn.feature_selection import SelectKBest\n",
    "from sklearn.feature_selection import chi2\n",
    "\n",
    "# find best scored 5 features\n",
    "select_feature = SelectKBest(chi2, k=50).fit(a_sub, ay_train)\n",
    "\n",
    "print('Score list:', select_feature.scores_)\n",
    "print('Feature list:', a_sub.columns)"
   ]
  },
  {
   "cell_type": "code",
   "execution_count": 95,
   "metadata": {},
   "outputs": [
    {
     "name": "stdout",
     "output_type": "stream",
     "text": [
      "Input shape:\t(8203, 344)\n",
      "After standardization (8203, 344)\n",
      "After converting categoricals:\t(8203, 859)\n",
      "Optimal number of features : 565\n",
      "Best features : Index(['nEsgxvAq', 'OMtioXZZ', 'YFMZwKrU', 'TiwRslOh', 'SlDKnCuu_GUusz',\n",
      "       'SlDKnCuu_alLXR', 'KAJOWiiw_BIZns', 'KAJOWiiw_TuovO', 'DsKacCdL_QGgpH',\n",
      "       'rtPrBBPl_feupP',\n",
      "       ...\n",
      "       'OLpGAaEu_USRak', 'OLpGAaEu_etZsD', 'JCDeZBXq_LPtkN', 'JCDeZBXq_UyAms',\n",
      "       'HGPWuGlV_WKNwg', 'HGPWuGlV_vkbkA', 'WuwrCsIY_AITFl', 'WuwrCsIY_GAZGl',\n",
      "       'AlDbXTlZ_aQeIm', 'AlDbXTlZ_cecIq'],\n",
      "      dtype='object', length=565)\n"
     ]
    }
   ],
   "source": [
    "from sklearn.feature_selection import RFECV\n",
    "\n",
    "# The \"accuracy\" scoring is proportional to the number of correct classifications\n",
    "a_train = pd.read_csv(DATA_PATHS['A']['train'], index_col='id')\n",
    "a_train.poor.fillna(False, inplace=True)\n",
    "ay_train = np.ravel(a_train.poor.astype(int))\n",
    "data = pre_process_data(a_train.drop('poor', axis=1))\n",
    "\n",
    "clf_rf_4 = RandomForestClassifier() \n",
    "rfecv = RFECV(estimator=clf_rf_4, step=1, cv=5, scoring='neg_log_loss')\n",
    "rfecv = rfecv.fit(data, ay_train)\n",
    "\n",
    "print('Optimal number of features :', rfecv.n_features_)\n",
    "print('Best features :', data.columns[rfecv.support_])"
   ]
  },
  {
   "cell_type": "markdown",
   "metadata": {},
   "source": [
    "Lets train a xgboost and check the results:"
   ]
  },
  {
   "cell_type": "code",
   "execution_count": 96,
   "metadata": {},
   "outputs": [],
   "source": [
    "# Prepare data to train\n",
    "test_size = 0.2\n",
    "train = data[data.columns[rfecv.support_]]\n",
    "\n",
    "xgb_ax_train, xgb_ax_test, xgb_ay_train, xgb_ay_test = prepare_data(train, ay_train, test_size=test_size, xgb_format=True)"
   ]
  },
  {
   "cell_type": "code",
   "execution_count": 97,
   "metadata": {},
   "outputs": [],
   "source": [
    "num_round = 3000\n",
    "#params = {'max_depth': 15, 'eta': 0.01, 'silent': 0, 'lambda': 0.5, 'alpha': 0.5, 'lambda_bias': 0.5, 'min_child_weight': 1, 'objective': 'binary:logistic', 'eval_metric': 'logloss', 'seed': 42}\n",
    "params = {'max_depth': 15, 'eta': 0.01, 'silent': 0, 'lambda': 0.5, 'alpha': 0.5, 'lambda_bias': 0.5, 'min_child_weight': 1, 'objective': 'binary:logistic', 'eval_metric': 'logloss', 'seed': 42}\n",
    "\n",
    "xgb_a = train_xgb_model(xgb_ax_train, params=params, num_round=num_round)"
   ]
  },
  {
   "cell_type": "code",
   "execution_count": 98,
   "metadata": {},
   "outputs": [
    {
     "name": "stdout",
     "output_type": "stream",
     "text": [
      "A Loss. Train: 0.3931912914721542 - Test: 5.223861152460701\n"
     ]
    }
   ],
   "source": [
    "a_loss_train, a_loss_test = cross_validate(xgb_ax_train, xgb_ax_test, xgb_ay_train, xgb_ay_test, xgb_a)\n",
    "\n",
    "print(\"A Loss. Train: {} - Test: {}\".format(a_loss_train, a_loss_test))"
   ]
  },
  {
   "cell_type": "code",
   "execution_count": null,
   "metadata": {},
   "outputs": [],
   "source": []
  }
 ],
 "metadata": {
  "kernelspec": {
   "display_name": "Python 3",
   "language": "python",
   "name": "python3"
  },
  "language_info": {
   "codemirror_mode": {
    "name": "ipython",
    "version": 3
   },
   "file_extension": ".py",
   "mimetype": "text/x-python",
   "name": "python",
   "nbconvert_exporter": "python",
   "pygments_lexer": "ipython3",
   "version": "3.6.2"
  }
 },
 "nbformat": 4,
 "nbformat_minor": 2
}
