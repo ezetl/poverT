{
 "cells": [
  {
   "cell_type": "code",
   "execution_count": 3,
   "metadata": {},
   "outputs": [],
   "source": [
    "import pandas as pd\n",
    "import xgboost as xgb\n",
    "import numpy as np\n",
    "import scipy as sc\n",
    "from sklearn.preprocessing import LabelEncoder\n",
    "from sklearn.model_selection import train_test_split"
   ]
  },
  {
   "cell_type": "code",
   "execution_count": 4,
   "metadata": {},
   "outputs": [],
   "source": [
    "# Standardize features\n",
    "def standardize(df):\n",
    "    numeric = df.select_dtypes(include=['int64', 'float64'])\n",
    "    \n",
    "    # subtracy mean and divide by std\n",
    "    df[numeric.columns] = (numeric - numeric.mean()) / numeric.std()\n",
    "    \n",
    "    return df\n",
    "    \n",
    "\n",
    "def pre_process_data(df, enforce_cols=None):\n",
    "    print(\"Input shape:\\t{}\".format(df.shape))\n",
    "        \n",
    "\n",
    "    df = standardize(df)\n",
    "    print(\"After standardization {}\".format(df.shape))\n",
    "        \n",
    "    # create dummy variables for categoricals\n",
    "    df = pd.get_dummies(df)\n",
    "    print(\"After converting categoricals:\\t{}\".format(df.shape))\n",
    "    \n",
    "\n",
    "    # match test set and training set columns\n",
    "    if enforce_cols is not None:\n",
    "        to_drop = np.setdiff1d(df.columns, enforce_cols)\n",
    "        to_add = np.setdiff1d(enforce_cols, df.columns)\n",
    "        df.drop(to_drop, axis=1, inplace=True)\n",
    "        df = df.assign(**{c: 0 for c in to_add})\n",
    "    \n",
    "    df.fillna(0, inplace=True)\n",
    "\n",
    "    return df"
   ]
  },
  {
   "cell_type": "code",
   "execution_count": 5,
   "metadata": {},
   "outputs": [
    {
     "name": "stdout",
     "output_type": "stream",
     "text": [
      "Input shape:\t(1855, 345)\n",
      "After standardization (1855, 345)\n",
      "After converting categoricals:\t(1855, 850)\n"
     ]
    },
    {
     "data": {
      "text/html": [
       "<div>\n",
       "<style>\n",
       "    .dataframe thead tr:only-child th {\n",
       "        text-align: right;\n",
       "    }\n",
       "\n",
       "    .dataframe thead th {\n",
       "        text-align: left;\n",
       "    }\n",
       "\n",
       "    .dataframe tbody tr th {\n",
       "        vertical-align: top;\n",
       "    }\n",
       "</style>\n",
       "<table border=\"1\" class=\"dataframe\">\n",
       "  <thead>\n",
       "    <tr style=\"text-align: right;\">\n",
       "      <th></th>\n",
       "      <th>id</th>\n",
       "      <th>nEsgxvAq</th>\n",
       "      <th>OMtioXZZ</th>\n",
       "      <th>YFMZwKrU</th>\n",
       "      <th>TiwRslOh</th>\n",
       "      <th>wBXbHZmp_DkQlr</th>\n",
       "      <th>wBXbHZmp_JhtDR</th>\n",
       "      <th>SlDKnCuu_GUusz</th>\n",
       "      <th>SlDKnCuu_alLXR</th>\n",
       "      <th>KAJOWiiw_BIZns</th>\n",
       "      <th>...</th>\n",
       "      <th>JCDeZBXq_UyAms</th>\n",
       "      <th>HGPWuGlV_WKNwg</th>\n",
       "      <th>HGPWuGlV_vkbkA</th>\n",
       "      <th>GDUPaBQs_qCEuA</th>\n",
       "      <th>GDUPaBQs_qQxrL</th>\n",
       "      <th>WuwrCsIY_AITFl</th>\n",
       "      <th>WuwrCsIY_GAZGl</th>\n",
       "      <th>AlDbXTlZ_aQeIm</th>\n",
       "      <th>AlDbXTlZ_cecIq</th>\n",
       "      <th>country_A</th>\n",
       "    </tr>\n",
       "  </thead>\n",
       "  <tbody>\n",
       "    <tr>\n",
       "      <th>0</th>\n",
       "      <td>-0.111030</td>\n",
       "      <td>-1.417848</td>\n",
       "      <td>0.310421</td>\n",
       "      <td>1.131639</td>\n",
       "      <td>-0.626205</td>\n",
       "      <td>0</td>\n",
       "      <td>1</td>\n",
       "      <td>1</td>\n",
       "      <td>0</td>\n",
       "      <td>0</td>\n",
       "      <td>...</td>\n",
       "      <td>0</td>\n",
       "      <td>0</td>\n",
       "      <td>1</td>\n",
       "      <td>0</td>\n",
       "      <td>1</td>\n",
       "      <td>1</td>\n",
       "      <td>0</td>\n",
       "      <td>1</td>\n",
       "      <td>0</td>\n",
       "      <td>1</td>\n",
       "    </tr>\n",
       "    <tr>\n",
       "      <th>1</th>\n",
       "      <td>1.167628</td>\n",
       "      <td>-0.406268</td>\n",
       "      <td>-0.507080</td>\n",
       "      <td>-0.005520</td>\n",
       "      <td>0.733261</td>\n",
       "      <td>0</td>\n",
       "      <td>1</td>\n",
       "      <td>1</td>\n",
       "      <td>0</td>\n",
       "      <td>0</td>\n",
       "      <td>...</td>\n",
       "      <td>1</td>\n",
       "      <td>0</td>\n",
       "      <td>1</td>\n",
       "      <td>0</td>\n",
       "      <td>1</td>\n",
       "      <td>1</td>\n",
       "      <td>0</td>\n",
       "      <td>0</td>\n",
       "      <td>1</td>\n",
       "      <td>1</td>\n",
       "    </tr>\n",
       "    <tr>\n",
       "      <th>2</th>\n",
       "      <td>-1.383718</td>\n",
       "      <td>0.605312</td>\n",
       "      <td>-0.507080</td>\n",
       "      <td>-0.005520</td>\n",
       "      <td>-0.626205</td>\n",
       "      <td>0</td>\n",
       "      <td>1</td>\n",
       "      <td>1</td>\n",
       "      <td>0</td>\n",
       "      <td>1</td>\n",
       "      <td>...</td>\n",
       "      <td>1</td>\n",
       "      <td>0</td>\n",
       "      <td>1</td>\n",
       "      <td>0</td>\n",
       "      <td>1</td>\n",
       "      <td>1</td>\n",
       "      <td>0</td>\n",
       "      <td>0</td>\n",
       "      <td>1</td>\n",
       "      <td>1</td>\n",
       "    </tr>\n",
       "    <tr>\n",
       "      <th>3</th>\n",
       "      <td>-1.337329</td>\n",
       "      <td>0.605312</td>\n",
       "      <td>-1.324580</td>\n",
       "      <td>-1.142679</td>\n",
       "      <td>0.733261</td>\n",
       "      <td>0</td>\n",
       "      <td>1</td>\n",
       "      <td>1</td>\n",
       "      <td>0</td>\n",
       "      <td>0</td>\n",
       "      <td>...</td>\n",
       "      <td>1</td>\n",
       "      <td>0</td>\n",
       "      <td>1</td>\n",
       "      <td>0</td>\n",
       "      <td>1</td>\n",
       "      <td>1</td>\n",
       "      <td>0</td>\n",
       "      <td>0</td>\n",
       "      <td>1</td>\n",
       "      <td>1</td>\n",
       "    </tr>\n",
       "    <tr>\n",
       "      <th>4</th>\n",
       "      <td>-1.145768</td>\n",
       "      <td>0.605312</td>\n",
       "      <td>0.310421</td>\n",
       "      <td>-1.142679</td>\n",
       "      <td>-0.173050</td>\n",
       "      <td>0</td>\n",
       "      <td>1</td>\n",
       "      <td>0</td>\n",
       "      <td>1</td>\n",
       "      <td>0</td>\n",
       "      <td>...</td>\n",
       "      <td>1</td>\n",
       "      <td>0</td>\n",
       "      <td>1</td>\n",
       "      <td>0</td>\n",
       "      <td>1</td>\n",
       "      <td>0</td>\n",
       "      <td>1</td>\n",
       "      <td>1</td>\n",
       "      <td>0</td>\n",
       "      <td>1</td>\n",
       "    </tr>\n",
       "  </tbody>\n",
       "</table>\n",
       "<p>5 rows × 850 columns</p>\n",
       "</div>"
      ],
      "text/plain": [
       "         id  nEsgxvAq  OMtioXZZ  YFMZwKrU  TiwRslOh  wBXbHZmp_DkQlr  \\\n",
       "0 -0.111030 -1.417848  0.310421  1.131639 -0.626205               0   \n",
       "1  1.167628 -0.406268 -0.507080 -0.005520  0.733261               0   \n",
       "2 -1.383718  0.605312 -0.507080 -0.005520 -0.626205               0   \n",
       "3 -1.337329  0.605312 -1.324580 -1.142679  0.733261               0   \n",
       "4 -1.145768  0.605312  0.310421 -1.142679 -0.173050               0   \n",
       "\n",
       "   wBXbHZmp_JhtDR  SlDKnCuu_GUusz  SlDKnCuu_alLXR  KAJOWiiw_BIZns    ...      \\\n",
       "0               1               1               0               0    ...       \n",
       "1               1               1               0               0    ...       \n",
       "2               1               1               0               1    ...       \n",
       "3               1               1               0               0    ...       \n",
       "4               1               0               1               0    ...       \n",
       "\n",
       "   JCDeZBXq_UyAms  HGPWuGlV_WKNwg  HGPWuGlV_vkbkA  GDUPaBQs_qCEuA  \\\n",
       "0               0               0               1               0   \n",
       "1               1               0               1               0   \n",
       "2               1               0               1               0   \n",
       "3               1               0               1               0   \n",
       "4               1               0               1               0   \n",
       "\n",
       "   GDUPaBQs_qQxrL  WuwrCsIY_AITFl  WuwrCsIY_GAZGl  AlDbXTlZ_aQeIm  \\\n",
       "0               1               1               0               1   \n",
       "1               1               1               0               0   \n",
       "2               1               1               0               0   \n",
       "3               1               1               0               0   \n",
       "4               1               0               1               1   \n",
       "\n",
       "   AlDbXTlZ_cecIq  country_A  \n",
       "0               0          1  \n",
       "1               1          1  \n",
       "2               1          1  \n",
       "3               1          1  \n",
       "4               0          1  \n",
       "\n",
       "[5 rows x 850 columns]"
      ]
     },
     "execution_count": 5,
     "metadata": {},
     "output_type": "execute_result"
    }
   ],
   "source": [
    "# Check some training csv\n",
    "dfA_csv = pd.read_csv('A_hhold_train.csv')\n",
    "\n",
    "dfA = pre_process_data(dfA_csv.drop('poor', axis=1))\n",
    "dfA_csv.fillna(False, inplace=True)\n",
    "YA = np.ravel(dfA_csv.poor.astype(int))\n",
    "\n",
    "#YA = list(dfA['poor'].astype(int))\n",
    "#del dfA['poor']\n",
    "dfA.head()"
   ]
  },
  {
   "cell_type": "code",
   "execution_count": 6,
   "metadata": {},
   "outputs": [],
   "source": [
    "#df_dumA = pd.get_dummies(dfA)\n",
    "XA = dfA\n",
    "#XA.head()"
   ]
  },
  {
   "cell_type": "code",
   "execution_count": 7,
   "metadata": {},
   "outputs": [],
   "source": [
    "X_trainA, X_testA, Y_trainA, Y_testA = train_test_split(XA, YA, test_size=0.20, random_state=42)\n",
    "dtrainA = xgb.DMatrix(X_trainA, label=Y_trainA)\n",
    "dtestA = xgb.DMatrix(X_testA)"
   ]
  },
  {
   "cell_type": "code",
   "execution_count": 16,
   "metadata": {},
   "outputs": [],
   "source": [
    "# Set up XGBoost\n",
    "param = {'max_depth': 4, 'eta':100, 'silent':1, 'objective':'reg:logistic'}\n",
    "num_round = 100\n",
    "bstA = xgb.train(param, dtrainA, num_round)"
   ]
  },
  {
   "cell_type": "code",
   "execution_count": 17,
   "metadata": {},
   "outputs": [],
   "source": [
    "predA = bstA.predict(dtestA)"
   ]
  },
  {
   "cell_type": "code",
   "execution_count": 18,
   "metadata": {},
   "outputs": [],
   "source": [
    "# Compute loss\n",
    "# -log P(yt|yp) = -(yt log(yp) + (1 - yt) log(1 - yp))\n",
    "def log_loss(yt, yp):\n",
    "    # yt: groundtruth\n",
    "    # yp: predicted\n",
    "    ground = np.array(yt)\n",
    "    pred = yp.astype(float)\n",
    "    eps_pred = np.maximum(np.minimum(pred, 1. - 1e-15), 1e-15)\n",
    "    loss = -(ground * np.log(eps_pred) + (1 - ground) * np.log(1 - eps_pred))\n",
    "    return np.mean(loss)"
   ]
  },
  {
   "cell_type": "code",
   "execution_count": 19,
   "metadata": {},
   "outputs": [
    {
     "name": "stdout",
     "output_type": "stream",
     "text": [
      "15.2678149023\n"
     ]
    }
   ],
   "source": [
    "print(log_loss(Y_testA, predA))"
   ]
  },
  {
   "cell_type": "code",
   "execution_count": 24,
   "metadata": {},
   "outputs": [
    {
     "name": "stdout",
     "output_type": "stream",
     "text": [
      "25.6813091845\n"
     ]
    }
   ],
   "source": [
    "# Train B\n",
    "dfB = pd.read_csv('B_hhold_train.csv')\n",
    "YB = list(dfB['poor'].astype(int))\n",
    "del dfB['poor']\n",
    "df_dumB = pd.get_dummies(dfB)\n",
    "XB = df_dumB\n",
    "X_trainB, X_testB, Y_trainB, Y_testB = train_test_split(XB, YB, test_size=0.20, random_state=42)\n",
    "dtrainB = xgb.DMatrix(X_trainB, label=Y_trainB)\n",
    "dtestB = xgb.DMatrix(X_testB)\n",
    "#param = {'max_depth':2, 'eta':10, 'silent':1, 'objective':'reg:logistic'}\n",
    "#num_round = 200\n",
    "bstB = xgb.train(param, dtrainB, num_round)\n",
    "predB = bstB.predict(dtestB)\n",
    "print(log_loss(Y_testB, predB))"
   ]
  },
  {
   "cell_type": "code",
   "execution_count": 27,
   "metadata": {},
   "outputs": [
    {
     "name": "stdout",
     "output_type": "stream",
     "text": [
      "0.0816906123634\n"
     ]
    }
   ],
   "source": [
    "# Train C\n",
    "dfC = pd.read_csv('C_hhold_train.csv')\n",
    "YC = list(dfC['poor'].astype(int))\n",
    "del dfC['poor']\n",
    "df_dumC = pd.get_dummies(dfC)\n",
    "XC = df_dumC\n",
    "X_trainC, X_testC, Y_trainC, Y_testC = train_test_split(XC, YC, test_size=0.20, random_state=42)\n",
    "dtrainC = xgb.DMatrix(X_trainC, label=Y_trainC)\n",
    "dtestC = xgb.DMatrix(X_testC)\n",
    "param = {'max_depth':2, 'eta':10, 'silent':1, 'objective':'reg:logistic'}\n",
    "num_round = 200\n",
    "bstC = xgb.train(param, dtrainC, num_round)\n",
    "predC = bstC.predict(dtestC)\n",
    "print(log_loss(Y_testC, predC))"
   ]
  },
  {
   "cell_type": "markdown",
   "metadata": {},
   "source": [
    "## Test"
   ]
  },
  {
   "cell_type": "code",
   "execution_count": 28,
   "metadata": {},
   "outputs": [],
   "source": [
    "A = pd.read_csv('A_hhold_test.csv')\n",
    "B = pd.read_csv('B_hhold_test.csv')\n",
    "C = pd.read_csv('C_hhold_test.csv')\n",
    "A = pd.get_dummies(A)\n",
    "B = pd.get_dummies(B)\n",
    "C = pd.get_dummies(C)"
   ]
  },
  {
   "cell_type": "code",
   "execution_count": 29,
   "metadata": {},
   "outputs": [],
   "source": [
    "missingA = set(A.columns.tolist())\n",
    "missingB = set(B.columns.tolist())\n",
    "missingC = set(C.columns.tolist())\n",
    "missingA = set(df_dumA.columns.tolist()) - missingA\n",
    "missingB = set(df_dumB.columns.tolist()) - missingB\n",
    "missingC = set(df_dumC.columns.tolist()) - missingC\n",
    "\n",
    "for elem in missingA:\n",
    "    A[elem] = 0\n",
    "    \n",
    "for elem in missingB:\n",
    "    B[elem] = 0\n",
    "    \n",
    "for elem in missingC:\n",
    "    C[elem] = 0"
   ]
  },
  {
   "cell_type": "code",
   "execution_count": 30,
   "metadata": {},
   "outputs": [],
   "source": [
    "# Workaround for \"feature_names mismatch\" error\n",
    "bstA.save_model('A.xgb')\n",
    "bstA = xgb.Booster(param)\n",
    "bstA.load_model('A.xgb')\n",
    "bstB.save_model('B.xgb')\n",
    "bstB = xgb.Booster(param)\n",
    "bstB.load_model('B.xgb')\n",
    "bstC.save_model('C.xgb')\n",
    "bstC = xgb.Booster(param)\n",
    "bstC.load_model('C.xgb')"
   ]
  },
  {
   "cell_type": "code",
   "execution_count": 31,
   "metadata": {},
   "outputs": [],
   "source": [
    "dtestA = xgb.DMatrix(A)\n",
    "dtestB = xgb.DMatrix(B)\n",
    "dtestC = xgb.DMatrix(C)\n",
    "\n",
    "predA = bstA.predict(dtestA)\n",
    "predB = bstB.predict(dtestB)\n",
    "predC = bstC.predict(dtestC)"
   ]
  },
  {
   "cell_type": "code",
   "execution_count": 32,
   "metadata": {},
   "outputs": [
    {
     "data": {
      "text/html": [
       "<div>\n",
       "<style>\n",
       "    .dataframe thead tr:only-child th {\n",
       "        text-align: right;\n",
       "    }\n",
       "\n",
       "    .dataframe thead th {\n",
       "        text-align: left;\n",
       "    }\n",
       "\n",
       "    .dataframe tbody tr th {\n",
       "        vertical-align: top;\n",
       "    }\n",
       "</style>\n",
       "<table border=\"1\" class=\"dataframe\">\n",
       "  <thead>\n",
       "    <tr style=\"text-align: right;\">\n",
       "      <th></th>\n",
       "      <th>id</th>\n",
       "      <th>country</th>\n",
       "      <th>poor</th>\n",
       "    </tr>\n",
       "  </thead>\n",
       "  <tbody>\n",
       "    <tr>\n",
       "      <th>0</th>\n",
       "      <td>418</td>\n",
       "      <td>A</td>\n",
       "      <td>0.0</td>\n",
       "    </tr>\n",
       "    <tr>\n",
       "      <th>1</th>\n",
       "      <td>41249</td>\n",
       "      <td>A</td>\n",
       "      <td>1.0</td>\n",
       "    </tr>\n",
       "    <tr>\n",
       "      <th>2</th>\n",
       "      <td>16205</td>\n",
       "      <td>A</td>\n",
       "      <td>0.0</td>\n",
       "    </tr>\n",
       "    <tr>\n",
       "      <th>3</th>\n",
       "      <td>97501</td>\n",
       "      <td>A</td>\n",
       "      <td>1.0</td>\n",
       "    </tr>\n",
       "    <tr>\n",
       "      <th>4</th>\n",
       "      <td>67756</td>\n",
       "      <td>A</td>\n",
       "      <td>0.0</td>\n",
       "    </tr>\n",
       "  </tbody>\n",
       "</table>\n",
       "</div>"
      ],
      "text/plain": [
       "      id country  poor\n",
       "0    418       A   0.0\n",
       "1  41249       A   1.0\n",
       "2  16205       A   0.0\n",
       "3  97501       A   1.0\n",
       "4  67756       A   0.0"
      ]
     },
     "execution_count": 32,
     "metadata": {},
     "output_type": "execute_result"
    }
   ],
   "source": [
    "A['country'] = 'A'\n",
    "B['country'] = 'B'\n",
    "C['country'] = 'C'\n",
    "A['poor'] = predA\n",
    "B['poor'] = predB\n",
    "C['poor'] = predC\n",
    "resultsA = A[['id', 'country', 'poor']]\n",
    "resultsB = B[['id', 'country', 'poor']]\n",
    "resultsC = C[['id', 'country', 'poor']]\n",
    "result = pd.concat([resultsA, resultsB, resultsC])\n",
    "result.head()"
   ]
  },
  {
   "cell_type": "code",
   "execution_count": 33,
   "metadata": {},
   "outputs": [],
   "source": [
    "result.to_csv('submission.csv', index=False)"
   ]
  },
  {
   "cell_type": "code",
   "execution_count": null,
   "metadata": {},
   "outputs": [],
   "source": []
  }
 ],
 "metadata": {
  "kernelspec": {
   "display_name": "Python 3",
   "language": "python",
   "name": "python3"
  },
  "language_info": {
   "codemirror_mode": {
    "name": "ipython",
    "version": 3
   },
   "file_extension": ".py",
   "mimetype": "text/x-python",
   "name": "python",
   "nbconvert_exporter": "python",
   "pygments_lexer": "ipython3",
   "version": "3.6.4"
  }
 },
 "nbformat": 4,
 "nbformat_minor": 2
}
